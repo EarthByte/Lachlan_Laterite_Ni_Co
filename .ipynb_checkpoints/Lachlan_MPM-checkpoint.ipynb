{
 "cells": [
  {
   "cell_type": "code",
   "execution_count": 1,
   "id": "45ad5632",
   "metadata": {},
   "outputs": [
    {
     "name": "stderr",
     "output_type": "stream",
     "text": [
      "C:\\Users\\efar0517\\Anaconda3\\envs\\gawler\\lib\\site-packages\\pyproj\\__init__.py:91: UserWarning: Valid PROJ data directory not found. Either set the path using the environmental variable PROJ_LIB or with `pyproj.datadir.set_data_dir`.\n",
      "  warnings.warn(str(err))\n"
     ]
    }
   ],
   "source": [
    "import geopandas as gpd\n",
    "import matplotlib.pyplot as plt\n",
    "import contextily as cx\n",
    "from ipywidgets import interact\n",
    "import math\n",
    "import pandas as pd\n",
    "import numpy as np\n",
    "import rasterio\n",
    "from shapely.geometry import Point\n",
    "import shapely.strtree\n",
    "import os\n",
    "import scipy.spatial\n",
    "import random\n",
    "from skimage import exposure, util\n",
    "from skimage.feature import greycomatrix, greycoprops"
   ]
  },
  {
   "cell_type": "code",
   "execution_count": 2,
   "id": "ad8a5919",
   "metadata": {},
   "outputs": [
    {
     "name": "stdout",
     "output_type": "stream",
     "text": [
      "Ni-Co laterites                                                                   32\n",
      "Gabbronorite-troctolite-related deposits - Intrusive-related basal Ni-Cu-(PGE)     5\n",
      "Unclassified                                                                       5\n",
      "Intrusive-related podiform Cr, PGE                                                 3\n",
      "Structurally controlled high sulfide base metal (+/- Au)                           2\n",
      "Epigenetic Ni                                                                      2\n",
      "Ultramafic-related deposits - Picrite-related Ni-Cu-(PGE)                          1\n",
      "Name: NSW_CLASS, dtype: int64\n"
     ]
    },
    {
     "data": {
      "application/vnd.jupyter.widget-view+json": {
       "model_id": "e466eb04cff74a5983a68d132cbf5305",
       "version_major": 2,
       "version_minor": 0
      },
      "text/plain": [
       "interactive(children=(Dropdown(description='mineralization_type', options=('Epigenetic Ni', 'Gabbronorite-troc…"
      ]
     },
     "metadata": {},
     "output_type": "display_data"
    }
   ],
   "source": [
    "nsw_boundary = gpd.read_file('./Datasets/Frames/NSW_STATE_POLYGON_shp_GDA94_NoIsland.shp')\n",
    "lachlan_boundary = gpd.read_file('./Datasets/Frames/Lachlan_Boundary.shp')\n",
    "\n",
    "# comment one of the lines below to map cobalt or nickel occurrences\n",
    "# commodity = gpd.read_file('./Datasets/Mineral Occurrences/cobalt.shp')\n",
    "commodity = gpd.read_file('./Datasets/Mineral Occurrences/nickel.shp')\n",
    "\n",
    "mineralization_types = commodity.NSW_CLASS.unique()\n",
    "mineralization_types.sort()\n",
    "\n",
    "print(commodity.NSW_CLASS.value_counts())\n",
    "\n",
    "@interact(mineralization_type=mineralization_types)\n",
    "def show_map(mineralization_type):\n",
    "    fig, ax = plt.subplots(figsize=(15, 15))\n",
    "    data = commodity[commodity.NSW_CLASS==mineralization_type]\n",
    "    data.plot(ax=ax, edgecolor='black', color='yellow')\n",
    "    nsw_boundary.plot(ax=ax, edgecolor='white', color='none', linewidth=2)\n",
    "    lachlan_boundary.plot(ax=ax, edgecolor='black', color='none', linewidth=2)\n",
    "    cx.add_basemap(ax, crs='EPSG:4283', source=cx.providers.Esri.WorldGrayCanvas)\n",
    "    ax.set_title(mineralization_type)\n",
    "    plt.show()"
   ]
  },
  {
   "cell_type": "code",
   "execution_count": 3,
   "id": "b89b61b7",
   "metadata": {},
   "outputs": [
    {
     "name": "stdout",
     "output_type": "stream",
     "text": [
      "Ni, Co, Sc                            12\n",
      "Ni, Co                                10\n",
      "Co                                     8\n",
      "Ni                                     4\n",
      "Fe                                     4\n",
      "Pt, Co, Ni                             2\n",
      "Fe, Al, Co                             1\n",
      "Iron oxides, Al                        1\n",
      "Ni, Co, Sc, Fe                         1\n",
      "Pt                                     1\n",
      "Sc                                     1\n",
      "Ni, alumina                            1\n",
      "Sc, Co, Ni                             1\n",
      "Al, Co, Sc                             1\n",
      "Ni, Magnesium minerals - magnesite     1\n",
      "Name: MAJOR_COMM, dtype: int64\n"
     ]
    },
    {
     "data": {
      "application/vnd.jupyter.widget-view+json": {
       "model_id": "ab9f9f8c3ba44f5e96d0fc19221aef72",
       "version_major": 2,
       "version_minor": 0
      },
      "text/plain": [
       "interactive(children=(Dropdown(description='commodity', options=('Al, Co, Sc', 'Co', 'Fe', 'Fe, Al, Co', 'Iron…"
      ]
     },
     "metadata": {},
     "output_type": "display_data"
    }
   ],
   "source": [
    "laterites = gpd.read_file('./Datasets/Mineral Occurrences/ni_co_laterites.shp')\n",
    "\n",
    "commodities = laterites.MAJOR_COMM.unique()\n",
    "commodities.sort()\n",
    "\n",
    "print(laterites.MAJOR_COMM.value_counts())\n",
    "\n",
    "@interact(commodity=commodities)\n",
    "def show_map(commodity):\n",
    "    fig, ax = plt.subplots(figsize=(15, 15))\n",
    "    data = laterites[laterites.MAJOR_COMM==commodity]\n",
    "    data.plot(ax=ax, edgecolor='black', color='yellow')\n",
    "    nsw_boundary.plot(ax=ax, edgecolor='white', color='none', linewidth=2)\n",
    "    lachlan_boundary.plot(ax=ax, edgecolor='black', color='none', linewidth=2)\n",
    "    cx.add_basemap(ax, crs='EPSG:4283', source=cx.providers.Esri.WorldGrayCanvas)\n",
    "    ax.set_title(commodity)\n",
    "    plt.show()"
   ]
  },
  {
   "cell_type": "code",
   "execution_count": null,
   "id": "cae46914",
   "metadata": {},
   "outputs": [],
   "source": []
  }
 ],
 "metadata": {
  "kernelspec": {
   "display_name": "gawler",
   "language": "python",
   "name": "gawler"
  },
  "language_info": {
   "codemirror_mode": {
    "name": "ipython",
    "version": 3
   },
   "file_extension": ".py",
   "mimetype": "text/x-python",
   "name": "python",
   "nbconvert_exporter": "python",
   "pygments_lexer": "ipython3",
   "version": "3.10.2"
  }
 },
 "nbformat": 4,
 "nbformat_minor": 5
}
